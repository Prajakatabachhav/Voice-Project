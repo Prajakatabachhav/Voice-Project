{
  "nbformat": 4,
  "nbformat_minor": 0,
  "metadata": {
    "colab": {
      "provenance": []
    },
    "kernelspec": {
      "name": "python3",
      "display_name": "Python 3"
    },
    "language_info": {
      "name": "python"
    }
  },
  "cells": [
    {
      "cell_type": "code",
      "source": [
        "from google.colab import drive\n",
        "drive.mount('/content/drive')\n"
      ],
      "metadata": {
        "colab": {
          "base_uri": "https://localhost:8080/"
        },
        "id": "hVWoiWOgoZFO",
        "outputId": "0ff296eb-63a0-4896-ba08-6a29df171c58"
      },
      "execution_count": null,
      "outputs": [
        {
          "output_type": "stream",
          "name": "stdout",
          "text": [
            "Mounted at /content/drive\n"
          ]
        }
      ]
    },
    {
      "cell_type": "code",
      "source": [
        "import zipfile\n",
        "import os\n",
        "\n",
        "# Define the path to the zip file and the extraction folder\n",
        "zip_file_path = '/content/drive/MyDrive/Masters/voice dataset/voice archive.zip'  # Update with the correct path to your zip file\n",
        "extract_folder = '/content/voice archive/'  # Destination folder for extracted files\n",
        "\n",
        "# Create the extraction folder if it doesn't exist\n",
        "if not os.path.exists(extract_folder):\n",
        "    os.makedirs(extract_folder)\n",
        "\n",
        "# Extract the zip file\n",
        "with zipfile.ZipFile(zip_file_path, 'r') as zip_ref:\n",
        "    zip_ref.extractall(extract_folder)\n",
        "\n",
        "print(\"Extraction completed!\")\n"
      ],
      "metadata": {
        "colab": {
          "base_uri": "https://localhost:8080/"
        },
        "id": "Hi6YGs21oZOB",
        "outputId": "f864fea7-d605-4d85-f96d-0e43c19a5d7a"
      },
      "execution_count": null,
      "outputs": [
        {
          "output_type": "stream",
          "name": "stdout",
          "text": [
            "Extraction completed!\n"
          ]
        }
      ]
    },
    {
      "cell_type": "code",
      "source": [
        "# List files in the extracted folder\n",
        "extracted_files = os.listdir(extract_folder)\n",
        "print(extracted_files[:10])  # Display the first 10 files\n"
      ],
      "metadata": {
        "colab": {
          "base_uri": "https://localhost:8080/"
        },
        "id": "OTEyAHgaOtkr",
        "outputId": "c730026c-89f4-4fb6-a6bf-77942f4a7867"
      },
      "execution_count": null,
      "outputs": [
        {
          "output_type": "stream",
          "name": "stdout",
          "text": [
            "['AudioWAV']\n"
          ]
        }
      ]
    },
    {
      "cell_type": "code",
      "source": [
        "# Path to the extracted audio files folder (assuming 'AudioWAV' folder exists)\n",
        "audio_folder = os.path.join(extract_folder, 'AudioWAV')\n",
        "\n",
        "# List all files in the AudioWAV folder\n",
        "audio_files = os.listdir(audio_folder)\n",
        "print(f\"Total audio files in 'AudioWAV': {len(audio_files)}\")\n",
        "print(\"First 10 audio files:\", audio_files[:10])\n",
        "\n",
        "# Filter for .wav files\n",
        "wav_files = [f for f in audio_files if f.endswith('.wav')]\n",
        "print(f\"Total .wav files in 'AudioWAV': {len(wav_files)}\")\n",
        "print(\"First 10 .wav files:\", wav_files[:10])\n"
      ],
      "metadata": {
        "colab": {
          "base_uri": "https://localhost:8080/"
        },
        "id": "F-z6eeuVuS2T",
        "outputId": "c8f36bfb-e3d4-4cf1-e553-988287759545"
      },
      "execution_count": null,
      "outputs": [
        {
          "output_type": "stream",
          "name": "stdout",
          "text": [
            "Total audio files in 'AudioWAV': 7442\n",
            "First 10 audio files: ['1028_IWW_HAP_XX.wav', '1073_IEO_ANG_HI.wav', '1025_IEO_FEA_MD.wav', '1019_IWL_SAD_XX.wav', '1048_IWL_HAP_XX.wav', '1042_ITS_NEU_XX.wav', '1081_TSI_NEU_XX.wav', '1002_DFA_HAP_XX.wav', '1066_IEO_ANG_MD.wav', '1053_WSI_DIS_XX.wav']\n",
            "Total .wav files in 'AudioWAV': 7442\n",
            "First 10 .wav files: ['1028_IWW_HAP_XX.wav', '1073_IEO_ANG_HI.wav', '1025_IEO_FEA_MD.wav', '1019_IWL_SAD_XX.wav', '1048_IWL_HAP_XX.wav', '1042_ITS_NEU_XX.wav', '1081_TSI_NEU_XX.wav', '1002_DFA_HAP_XX.wav', '1066_IEO_ANG_MD.wav', '1053_WSI_DIS_XX.wav']\n"
          ]
        }
      ]
    },
    {
      "cell_type": "code",
      "source": [
        "import librosa\n",
        "import numpy as np\n",
        "import os\n",
        "\n",
        "# Function to extract MFCC features from an audio file\n",
        "def extract_advanced_features(audio_path):\n",
        "    try:\n",
        "        y, sr = librosa.load(audio_path, sr=None)\n",
        "        features = np.hstack([\n",
        "            np.mean(librosa.feature.mfcc(y=y, sr=sr, n_mfcc=13), axis=1),\n",
        "            np.mean(librosa.feature.chroma_stft(y=y, sr=sr), axis=1),\n",
        "            np.mean(librosa.feature.spectral_contrast(y=y, sr=sr), axis=1),\n",
        "            np.mean(librosa.feature.spectral_rolloff(y=y, sr=sr), axis=1),\n",
        "            np.mean(librosa.feature.zero_crossing_rate(y), axis=1),\n",
        "        ])\n",
        "        return features\n",
        "    except Exception as e:\n",
        "        print(f\"Error processing {audio_path}: {e}\")\n",
        "        return None\n",
        "\n",
        "\n",
        "# Folder containing the audio files\n",
        "audio_folder = '/content/voice archive/AudioWAV'\n",
        "\n",
        "# Get all .wav files in the folder\n",
        "wav_files = [f for f in os.listdir(audio_folder) if f.endswith('.wav')]\n",
        "\n",
        "# Initialize lists for features and labels\n",
        "X = []\n",
        "y = []\n",
        "\n",
        "# Iterate through each .wav file and extract features\n",
        "for audio_file in wav_files:\n",
        "    audio_path = os.path.join(audio_folder, audio_file)\n",
        "    features = extract_advanced_features(audio_path)  # Use advanced features\n",
        "    if features is not None:\n",
        "        X.append(features)\n",
        "        label = audio_file.split('_')[1]  # Extract emotion label\n",
        "        y.append(label)\n",
        "\n",
        "# Convert X and y to NumPy arrays after appending all features and labels\n",
        "X = np.array(X)\n",
        "y = np.array(y)\n",
        "\n",
        "# Display the results\n",
        "print(f\"Extracted features from {len(X)} audio files.\")\n",
        "print(f\"Feature vector shape: {X.shape}\")\n",
        "print(f\"First 10 labels: {y[:10]}\")\n"
      ],
      "metadata": {
        "colab": {
          "base_uri": "https://localhost:8080/"
        },
        "id": "lGkf0Am8we3X",
        "outputId": "00d050a7-b86f-46ae-8537-407997f3b236"
      },
      "execution_count": null,
      "outputs": [
        {
          "output_type": "stream",
          "name": "stdout",
          "text": [
            "Extracted features from 7442 audio files.\n",
            "Feature vector shape: (7442, 34)\n",
            "First 10 labels: ['IWW' 'IEO' 'IEO' 'IWL' 'IWL' 'ITS' 'TSI' 'DFA' 'IEO' 'WSI']\n"
          ]
        }
      ]
    },
    {
      "cell_type": "code",
      "source": [
        "from sklearn.preprocessing import LabelEncoder\n",
        "\n",
        "# Initialize the LabelEncoder\n",
        "label_encoder = LabelEncoder()\n",
        "\n",
        "# Fit and transform the labels\n",
        "y_encoded = label_encoder.fit_transform(y)\n",
        "\n",
        "# Show first 10 encoded labels\n",
        "print(f\"First 10 encoded labels: {y_encoded[:10]}\")\n"
      ],
      "metadata": {
        "colab": {
          "base_uri": "https://localhost:8080/"
        },
        "id": "IY6J5CW4xQdH",
        "outputId": "17d629ab-ea94-435a-9a1a-1d4021f944db"
      },
      "execution_count": null,
      "outputs": [
        {
          "output_type": "stream",
          "name": "stdout",
          "text": [
            "First 10 encoded labels: [ 6  1  1  5  5  4 10  0  1 11]\n"
          ]
        }
      ]
    },
    {
      "cell_type": "code",
      "source": [
        "def extract_advanced_features(audio_path, max_len=300):\n",
        "    try:\n",
        "        y, sr = librosa.load(audio_path, sr=None)\n",
        "        mfcc = librosa.feature.mfcc(y=y, sr=sr, n_mfcc=13)\n",
        "\n",
        "        # Pad or truncate MFCC to a fixed length\n",
        "        if mfcc.shape[1] < max_len:\n",
        "            pad_width = max_len - mfcc.shape[1]\n",
        "            mfcc = np.pad(mfcc, pad_width=((0, 0), (0, pad_width)), mode='constant')\n",
        "        else:\n",
        "            mfcc = mfcc[:, :max_len]\n",
        "\n",
        "        mfcc_mean = np.mean(mfcc.T, axis=0)\n",
        "        return mfcc_mean\n",
        "    except Exception as e:\n",
        "        print(f\"Error processing {audio_path}: {e}\")\n",
        "        return None"
      ],
      "metadata": {
        "id": "GM6_uzz2Duin"
      },
      "execution_count": null,
      "outputs": []
    },
    {
      "cell_type": "code",
      "source": [
        "from sklearn.model_selection import train_test_split\n",
        "\n",
        "# Split the data into training and testing sets (80% training, 20% testing)\n",
        "X_train, X_test, y_train, y_test = train_test_split(X, y_encoded, test_size=0.2, random_state=42)\n",
        "\n",
        "print(f\"Training set size: {len(X_train)}\")\n",
        "print(f\"Testing set size: {len(X_test)}\")\n"
      ],
      "metadata": {
        "colab": {
          "base_uri": "https://localhost:8080/"
        },
        "id": "BE9XU_CiyGGX",
        "outputId": "ac45baf2-bde5-4b72-cffe-d4c86b200dd0"
      },
      "execution_count": null,
      "outputs": [
        {
          "output_type": "stream",
          "name": "stdout",
          "text": [
            "Training set size: 5953\n",
            "Testing set size: 1489\n"
          ]
        }
      ]
    },
    {
      "cell_type": "code",
      "source": [
        "from sklearn.preprocessing import StandardScaler\n",
        "\n",
        "# Initialize the scaler\n",
        "scaler = StandardScaler()\n",
        "\n",
        "# Scale the training and testing sets\n",
        "X_train_scaled = scaler.fit_transform(X_train)\n",
        "X_test_scaled = scaler.transform(X_test)\n",
        "\n",
        "print(\"Feature scaling completed.\")\n"
      ],
      "metadata": {
        "colab": {
          "base_uri": "https://localhost:8080/"
        },
        "id": "A6qdiDloEmQL",
        "outputId": "07285391-1bed-436e-92e7-77d91cdee5b1"
      },
      "execution_count": null,
      "outputs": [
        {
          "output_type": "stream",
          "name": "stdout",
          "text": [
            "Feature scaling completed.\n"
          ]
        }
      ]
    },
    {
      "cell_type": "code",
      "source": [
        "pip install tensorflow\n"
      ],
      "metadata": {
        "colab": {
          "base_uri": "https://localhost:8080/"
        },
        "id": "j8Sf-7njz5cq",
        "outputId": "e1b79ccf-291e-42cb-f938-030fb38c5bc1"
      },
      "execution_count": null,
      "outputs": [
        {
          "output_type": "stream",
          "name": "stdout",
          "text": [
            "Requirement already satisfied: tensorflow in /usr/local/lib/python3.10/dist-packages (2.17.1)\n",
            "Requirement already satisfied: absl-py>=1.0.0 in /usr/local/lib/python3.10/dist-packages (from tensorflow) (1.4.0)\n",
            "Requirement already satisfied: astunparse>=1.6.0 in /usr/local/lib/python3.10/dist-packages (from tensorflow) (1.6.3)\n",
            "Requirement already satisfied: flatbuffers>=24.3.25 in /usr/local/lib/python3.10/dist-packages (from tensorflow) (24.3.25)\n",
            "Requirement already satisfied: gast!=0.5.0,!=0.5.1,!=0.5.2,>=0.2.1 in /usr/local/lib/python3.10/dist-packages (from tensorflow) (0.6.0)\n",
            "Requirement already satisfied: google-pasta>=0.1.1 in /usr/local/lib/python3.10/dist-packages (from tensorflow) (0.2.0)\n",
            "Requirement already satisfied: h5py>=3.10.0 in /usr/local/lib/python3.10/dist-packages (from tensorflow) (3.12.1)\n",
            "Requirement already satisfied: libclang>=13.0.0 in /usr/local/lib/python3.10/dist-packages (from tensorflow) (18.1.1)\n",
            "Requirement already satisfied: ml-dtypes<0.5.0,>=0.3.1 in /usr/local/lib/python3.10/dist-packages (from tensorflow) (0.4.1)\n",
            "Requirement already satisfied: opt-einsum>=2.3.2 in /usr/local/lib/python3.10/dist-packages (from tensorflow) (3.4.0)\n",
            "Requirement already satisfied: packaging in /usr/local/lib/python3.10/dist-packages (from tensorflow) (24.2)\n",
            "Requirement already satisfied: protobuf!=4.21.0,!=4.21.1,!=4.21.2,!=4.21.3,!=4.21.4,!=4.21.5,<5.0.0dev,>=3.20.3 in /usr/local/lib/python3.10/dist-packages (from tensorflow) (4.25.5)\n",
            "Requirement already satisfied: requests<3,>=2.21.0 in /usr/local/lib/python3.10/dist-packages (from tensorflow) (2.32.3)\n",
            "Requirement already satisfied: setuptools in /usr/local/lib/python3.10/dist-packages (from tensorflow) (75.1.0)\n",
            "Requirement already satisfied: six>=1.12.0 in /usr/local/lib/python3.10/dist-packages (from tensorflow) (1.17.0)\n",
            "Requirement already satisfied: termcolor>=1.1.0 in /usr/local/lib/python3.10/dist-packages (from tensorflow) (2.5.0)\n",
            "Requirement already satisfied: typing-extensions>=3.6.6 in /usr/local/lib/python3.10/dist-packages (from tensorflow) (4.12.2)\n",
            "Requirement already satisfied: wrapt>=1.11.0 in /usr/local/lib/python3.10/dist-packages (from tensorflow) (1.17.0)\n",
            "Requirement already satisfied: grpcio<2.0,>=1.24.3 in /usr/local/lib/python3.10/dist-packages (from tensorflow) (1.68.1)\n",
            "Requirement already satisfied: tensorboard<2.18,>=2.17 in /usr/local/lib/python3.10/dist-packages (from tensorflow) (2.17.1)\n",
            "Requirement already satisfied: keras>=3.2.0 in /usr/local/lib/python3.10/dist-packages (from tensorflow) (3.5.0)\n",
            "Requirement already satisfied: tensorflow-io-gcs-filesystem>=0.23.1 in /usr/local/lib/python3.10/dist-packages (from tensorflow) (0.37.1)\n",
            "Requirement already satisfied: numpy<2.0.0,>=1.23.5 in /usr/local/lib/python3.10/dist-packages (from tensorflow) (1.26.4)\n",
            "Requirement already satisfied: wheel<1.0,>=0.23.0 in /usr/local/lib/python3.10/dist-packages (from astunparse>=1.6.0->tensorflow) (0.45.1)\n",
            "Requirement already satisfied: rich in /usr/local/lib/python3.10/dist-packages (from keras>=3.2.0->tensorflow) (13.9.4)\n",
            "Requirement already satisfied: namex in /usr/local/lib/python3.10/dist-packages (from keras>=3.2.0->tensorflow) (0.0.8)\n",
            "Requirement already satisfied: optree in /usr/local/lib/python3.10/dist-packages (from keras>=3.2.0->tensorflow) (0.13.1)\n",
            "Requirement already satisfied: charset-normalizer<4,>=2 in /usr/local/lib/python3.10/dist-packages (from requests<3,>=2.21.0->tensorflow) (3.4.0)\n",
            "Requirement already satisfied: idna<4,>=2.5 in /usr/local/lib/python3.10/dist-packages (from requests<3,>=2.21.0->tensorflow) (3.10)\n",
            "Requirement already satisfied: urllib3<3,>=1.21.1 in /usr/local/lib/python3.10/dist-packages (from requests<3,>=2.21.0->tensorflow) (2.2.3)\n",
            "Requirement already satisfied: certifi>=2017.4.17 in /usr/local/lib/python3.10/dist-packages (from requests<3,>=2.21.0->tensorflow) (2024.12.14)\n",
            "Requirement already satisfied: markdown>=2.6.8 in /usr/local/lib/python3.10/dist-packages (from tensorboard<2.18,>=2.17->tensorflow) (3.7)\n",
            "Requirement already satisfied: tensorboard-data-server<0.8.0,>=0.7.0 in /usr/local/lib/python3.10/dist-packages (from tensorboard<2.18,>=2.17->tensorflow) (0.7.2)\n",
            "Requirement already satisfied: werkzeug>=1.0.1 in /usr/local/lib/python3.10/dist-packages (from tensorboard<2.18,>=2.17->tensorflow) (3.1.3)\n",
            "Requirement already satisfied: MarkupSafe>=2.1.1 in /usr/local/lib/python3.10/dist-packages (from werkzeug>=1.0.1->tensorboard<2.18,>=2.17->tensorflow) (3.0.2)\n",
            "Requirement already satisfied: markdown-it-py>=2.2.0 in /usr/local/lib/python3.10/dist-packages (from rich->keras>=3.2.0->tensorflow) (3.0.0)\n",
            "Requirement already satisfied: pygments<3.0.0,>=2.13.0 in /usr/local/lib/python3.10/dist-packages (from rich->keras>=3.2.0->tensorflow) (2.18.0)\n",
            "Requirement already satisfied: mdurl~=0.1 in /usr/local/lib/python3.10/dist-packages (from markdown-it-py>=2.2.0->rich->keras>=3.2.0->tensorflow) (0.1.2)\n"
          ]
        }
      ]
    },
    {
      "cell_type": "code",
      "source": [
        "from tensorflow.keras import models, layers\n"
      ],
      "metadata": {
        "id": "4eVfW--4FCoe"
      },
      "execution_count": null,
      "outputs": []
    },
    {
      "cell_type": "code",
      "source": [
        "model = models.Sequential([\n",
        "    layers.InputLayer(input_shape=(X_train_scaled.shape[1],)),\n",
        "    layers.Dense(512, activation='relu'),\n",
        "    layers.BatchNormalization(),\n",
        "    layers.Dropout(0.4),\n",
        "    layers.Dense(256, activation='relu'),\n",
        "    layers.BatchNormalization(),\n",
        "    layers.Dropout(0.3),\n",
        "    layers.Dense(128, activation='relu'),\n",
        "    layers.BatchNormalization(),\n",
        "    layers.Dense(len(np.unique(y_encoded)), activation='softmax')\n",
        "])\n",
        "\n",
        "model.compile(optimizer='adam', loss='sparse_categorical_crossentropy', metrics=['accuracy'])\n"
      ],
      "metadata": {
        "colab": {
          "base_uri": "https://localhost:8080/"
        },
        "id": "xWTsMvny0FuX",
        "outputId": "026adfec-341d-4de8-cb7a-22f900cc9b5e"
      },
      "execution_count": null,
      "outputs": [
        {
          "output_type": "stream",
          "name": "stderr",
          "text": [
            "/usr/local/lib/python3.10/dist-packages/keras/src/layers/core/input_layer.py:26: UserWarning: Argument `input_shape` is deprecated. Use `shape` instead.\n",
            "  warnings.warn(\n"
          ]
        }
      ]
    },
    {
      "cell_type": "code",
      "source": [
        "from tensorflow.keras.callbacks import EarlyStopping, ReduceLROnPlateau\n",
        "\n",
        "# Define callbacks\n",
        "early_stopping = EarlyStopping(monitor='val_loss', patience=5, restore_best_weights=True)\n",
        "lr_scheduler = ReduceLROnPlateau(monitor='val_loss', factor=0.5, patience=3, min_lr=1e-6)\n",
        "\n",
        "# Train the model with callbacks\n",
        "history = model.fit(\n",
        "    X_train_scaled, y_train,\n",
        "    validation_data=(X_test_scaled, y_test),\n",
        "    epochs=100,  # Increased epochs for better learning\n",
        "    batch_size=32,\n",
        "    callbacks=[early_stopping, lr_scheduler]\n",
        ")\n",
        "\n"
      ],
      "metadata": {
        "colab": {
          "base_uri": "https://localhost:8080/"
        },
        "id": "J1ZPUcrr0Jue",
        "outputId": "38754af8-d19d-4345-e667-0aed960ed290"
      },
      "execution_count": null,
      "outputs": [
        {
          "output_type": "stream",
          "name": "stdout",
          "text": [
            "Epoch 1/100\n",
            "\u001b[1m187/187\u001b[0m \u001b[32m━━━━━━━━━━━━━━━━━━━━\u001b[0m\u001b[37m\u001b[0m \u001b[1m4s\u001b[0m 8ms/step - accuracy: 0.3600 - loss: 1.9899 - val_accuracy: 0.5883 - val_loss: 1.2265 - learning_rate: 0.0010\n",
            "Epoch 2/100\n",
            "\u001b[1m187/187\u001b[0m \u001b[32m━━━━━━━━━━━━━━━━━━━━\u001b[0m\u001b[37m\u001b[0m \u001b[1m1s\u001b[0m 6ms/step - accuracy: 0.6418 - loss: 1.0488 - val_accuracy: 0.7018 - val_loss: 0.8625 - learning_rate: 0.0010\n",
            "Epoch 3/100\n",
            "\u001b[1m187/187\u001b[0m \u001b[32m━━━━━━━━━━━━━━━━━━━━\u001b[0m\u001b[37m\u001b[0m \u001b[1m1s\u001b[0m 6ms/step - accuracy: 0.6800 - loss: 0.8878 - val_accuracy: 0.7146 - val_loss: 0.7887 - learning_rate: 0.0010\n",
            "Epoch 4/100\n",
            "\u001b[1m187/187\u001b[0m \u001b[32m━━━━━━━━━━━━━━━━━━━━\u001b[0m\u001b[37m\u001b[0m \u001b[1m2s\u001b[0m 10ms/step - accuracy: 0.7245 - loss: 0.7929 - val_accuracy: 0.7354 - val_loss: 0.7449 - learning_rate: 0.0010\n",
            "Epoch 5/100\n",
            "\u001b[1m187/187\u001b[0m \u001b[32m━━━━━━━━━━━━━━━━━━━━\u001b[0m\u001b[37m\u001b[0m \u001b[1m2s\u001b[0m 11ms/step - accuracy: 0.7306 - loss: 0.7712 - val_accuracy: 0.7441 - val_loss: 0.7185 - learning_rate: 0.0010\n",
            "Epoch 6/100\n",
            "\u001b[1m187/187\u001b[0m \u001b[32m━━━━━━━━━━━━━━━━━━━━\u001b[0m\u001b[37m\u001b[0m \u001b[1m2s\u001b[0m 6ms/step - accuracy: 0.7540 - loss: 0.6940 - val_accuracy: 0.7515 - val_loss: 0.7057 - learning_rate: 0.0010\n",
            "Epoch 7/100\n",
            "\u001b[1m187/187\u001b[0m \u001b[32m━━━━━━━━━━━━━━━━━━━━\u001b[0m\u001b[37m\u001b[0m \u001b[1m1s\u001b[0m 6ms/step - accuracy: 0.7594 - loss: 0.6700 - val_accuracy: 0.7690 - val_loss: 0.6826 - learning_rate: 0.0010\n",
            "Epoch 8/100\n",
            "\u001b[1m187/187\u001b[0m \u001b[32m━━━━━━━━━━━━━━━━━━━━\u001b[0m\u001b[37m\u001b[0m \u001b[1m1s\u001b[0m 6ms/step - accuracy: 0.7655 - loss: 0.6604 - val_accuracy: 0.7743 - val_loss: 0.6605 - learning_rate: 0.0010\n",
            "Epoch 9/100\n",
            "\u001b[1m187/187\u001b[0m \u001b[32m━━━━━━━━━━━━━━━━━━━━\u001b[0m\u001b[37m\u001b[0m \u001b[1m1s\u001b[0m 6ms/step - accuracy: 0.7803 - loss: 0.6165 - val_accuracy: 0.7663 - val_loss: 0.6598 - learning_rate: 0.0010\n",
            "Epoch 10/100\n",
            "\u001b[1m187/187\u001b[0m \u001b[32m━━━━━━━━━━━━━━━━━━━━\u001b[0m\u001b[37m\u001b[0m \u001b[1m1s\u001b[0m 6ms/step - accuracy: 0.7888 - loss: 0.5930 - val_accuracy: 0.7670 - val_loss: 0.6399 - learning_rate: 0.0010\n",
            "Epoch 11/100\n",
            "\u001b[1m187/187\u001b[0m \u001b[32m━━━━━━━━━━━━━━━━━━━━\u001b[0m\u001b[37m\u001b[0m \u001b[1m1s\u001b[0m 6ms/step - accuracy: 0.7820 - loss: 0.5921 - val_accuracy: 0.7804 - val_loss: 0.6150 - learning_rate: 0.0010\n",
            "Epoch 12/100\n",
            "\u001b[1m187/187\u001b[0m \u001b[32m━━━━━━━━━━━━━━━━━━━━\u001b[0m\u001b[37m\u001b[0m \u001b[1m1s\u001b[0m 6ms/step - accuracy: 0.8035 - loss: 0.5524 - val_accuracy: 0.7831 - val_loss: 0.6014 - learning_rate: 0.0010\n",
            "Epoch 13/100\n",
            "\u001b[1m187/187\u001b[0m \u001b[32m━━━━━━━━━━━━━━━━━━━━\u001b[0m\u001b[37m\u001b[0m \u001b[1m1s\u001b[0m 7ms/step - accuracy: 0.7948 - loss: 0.5668 - val_accuracy: 0.7777 - val_loss: 0.6522 - learning_rate: 0.0010\n",
            "Epoch 14/100\n",
            "\u001b[1m187/187\u001b[0m \u001b[32m━━━━━━━━━━━━━━━━━━━━\u001b[0m\u001b[37m\u001b[0m \u001b[1m2s\u001b[0m 10ms/step - accuracy: 0.8060 - loss: 0.5388 - val_accuracy: 0.7770 - val_loss: 0.6417 - learning_rate: 0.0010\n",
            "Epoch 15/100\n",
            "\u001b[1m187/187\u001b[0m \u001b[32m━━━━━━━━━━━━━━━━━━━━\u001b[0m\u001b[37m\u001b[0m \u001b[1m2s\u001b[0m 10ms/step - accuracy: 0.8099 - loss: 0.5204 - val_accuracy: 0.7858 - val_loss: 0.6251 - learning_rate: 0.0010\n",
            "Epoch 16/100\n",
            "\u001b[1m187/187\u001b[0m \u001b[32m━━━━━━━━━━━━━━━━━━━━\u001b[0m\u001b[37m\u001b[0m \u001b[1m2s\u001b[0m 10ms/step - accuracy: 0.8267 - loss: 0.4872 - val_accuracy: 0.7992 - val_loss: 0.5867 - learning_rate: 5.0000e-04\n",
            "Epoch 17/100\n",
            "\u001b[1m187/187\u001b[0m \u001b[32m━━━━━━━━━━━━━━━━━━━━\u001b[0m\u001b[37m\u001b[0m \u001b[1m2s\u001b[0m 6ms/step - accuracy: 0.8277 - loss: 0.4669 - val_accuracy: 0.8012 - val_loss: 0.5840 - learning_rate: 5.0000e-04\n",
            "Epoch 18/100\n",
            "\u001b[1m187/187\u001b[0m \u001b[32m━━━━━━━━━━━━━━━━━━━━\u001b[0m\u001b[37m\u001b[0m \u001b[1m1s\u001b[0m 6ms/step - accuracy: 0.8368 - loss: 0.4484 - val_accuracy: 0.7952 - val_loss: 0.5922 - learning_rate: 5.0000e-04\n",
            "Epoch 19/100\n",
            "\u001b[1m187/187\u001b[0m \u001b[32m━━━━━━━━━━━━━━━━━━━━\u001b[0m\u001b[37m\u001b[0m \u001b[1m1s\u001b[0m 6ms/step - accuracy: 0.8516 - loss: 0.4366 - val_accuracy: 0.7999 - val_loss: 0.5797 - learning_rate: 5.0000e-04\n",
            "Epoch 20/100\n",
            "\u001b[1m187/187\u001b[0m \u001b[32m━━━━━━━━━━━━━━━━━━━━\u001b[0m\u001b[37m\u001b[0m \u001b[1m1s\u001b[0m 6ms/step - accuracy: 0.8501 - loss: 0.4205 - val_accuracy: 0.8059 - val_loss: 0.5817 - learning_rate: 5.0000e-04\n",
            "Epoch 21/100\n",
            "\u001b[1m187/187\u001b[0m \u001b[32m━━━━━━━━━━━━━━━━━━━━\u001b[0m\u001b[37m\u001b[0m \u001b[1m1s\u001b[0m 6ms/step - accuracy: 0.8455 - loss: 0.4320 - val_accuracy: 0.8066 - val_loss: 0.5893 - learning_rate: 5.0000e-04\n",
            "Epoch 22/100\n",
            "\u001b[1m187/187\u001b[0m \u001b[32m━━━━━━━━━━━━━━━━━━━━\u001b[0m\u001b[37m\u001b[0m \u001b[1m1s\u001b[0m 7ms/step - accuracy: 0.8507 - loss: 0.4122 - val_accuracy: 0.7972 - val_loss: 0.5964 - learning_rate: 5.0000e-04\n",
            "Epoch 23/100\n",
            "\u001b[1m187/187\u001b[0m \u001b[32m━━━━━━━━━━━━━━━━━━━━\u001b[0m\u001b[37m\u001b[0m \u001b[1m1s\u001b[0m 6ms/step - accuracy: 0.8546 - loss: 0.3950 - val_accuracy: 0.8059 - val_loss: 0.5759 - learning_rate: 2.5000e-04\n",
            "Epoch 24/100\n",
            "\u001b[1m187/187\u001b[0m \u001b[32m━━━━━━━━━━━━━━━━━━━━\u001b[0m\u001b[37m\u001b[0m \u001b[1m2s\u001b[0m 10ms/step - accuracy: 0.8637 - loss: 0.3826 - val_accuracy: 0.8066 - val_loss: 0.5710 - learning_rate: 2.5000e-04\n",
            "Epoch 25/100\n",
            "\u001b[1m187/187\u001b[0m \u001b[32m━━━━━━━━━━━━━━━━━━━━\u001b[0m\u001b[37m\u001b[0m \u001b[1m2s\u001b[0m 11ms/step - accuracy: 0.8709 - loss: 0.3690 - val_accuracy: 0.8059 - val_loss: 0.5797 - learning_rate: 2.5000e-04\n",
            "Epoch 26/100\n",
            "\u001b[1m187/187\u001b[0m \u001b[32m━━━━━━━━━━━━━━━━━━━━\u001b[0m\u001b[37m\u001b[0m \u001b[1m2s\u001b[0m 6ms/step - accuracy: 0.8642 - loss: 0.3881 - val_accuracy: 0.8073 - val_loss: 0.5757 - learning_rate: 2.5000e-04\n",
            "Epoch 27/100\n",
            "\u001b[1m187/187\u001b[0m \u001b[32m━━━━━━━━━━━━━━━━━━━━\u001b[0m\u001b[37m\u001b[0m \u001b[1m1s\u001b[0m 7ms/step - accuracy: 0.8709 - loss: 0.3783 - val_accuracy: 0.8106 - val_loss: 0.5792 - learning_rate: 2.5000e-04\n",
            "Epoch 28/100\n",
            "\u001b[1m187/187\u001b[0m \u001b[32m━━━━━━━━━━━━━━━━━━━━\u001b[0m\u001b[37m\u001b[0m \u001b[1m1s\u001b[0m 6ms/step - accuracy: 0.8823 - loss: 0.3346 - val_accuracy: 0.8093 - val_loss: 0.5754 - learning_rate: 1.2500e-04\n",
            "Epoch 29/100\n",
            "\u001b[1m187/187\u001b[0m \u001b[32m━━━━━━━━━━━━━━━━━━━━\u001b[0m\u001b[37m\u001b[0m \u001b[1m1s\u001b[0m 6ms/step - accuracy: 0.8763 - loss: 0.3487 - val_accuracy: 0.8099 - val_loss: 0.5749 - learning_rate: 1.2500e-04\n"
          ]
        }
      ]
    },
    {
      "cell_type": "code",
      "source": [],
      "metadata": {
        "id": "XGu-KSaq0wYi"
      },
      "execution_count": null,
      "outputs": []
    },
    {
      "cell_type": "code",
      "source": [
        "# Evaluate the model on the test data\n",
        "from sklearn.metrics import confusion_matrix, classification_report\n",
        "import seaborn as sns\n",
        "import matplotlib.pyplot as plt\n",
        "\n",
        "# Evaluate the model\n",
        "test_loss, test_acc = model.evaluate(X_test_scaled, y_test)\n",
        "print(f\"Test Accuracy: {test_acc * 100:.2f}%\")\n",
        "\n",
        "# Confusion matrix\n",
        "y_pred = np.argmax(model.predict(X_test_scaled), axis=1)\n",
        "cm = confusion_matrix(y_test, y_pred)\n",
        "\n",
        "# Plot confusion matrix\n",
        "plt.figure(figsize=(10, 8))\n",
        "sns.heatmap(cm, annot=True, fmt='d', cmap='Blues', xticklabels=label_encoder.classes_, yticklabels=label_encoder.classes_)\n",
        "plt.ylabel('Actual')\n",
        "plt.xlabel('Predicted')\n",
        "plt.title('Confusion Matrix')\n",
        "plt.show()\n",
        "\n",
        "# Classification report\n",
        "print(classification_report(y_test, y_pred, target_names=label_encoder.classes_))\n",
        "\n"
      ],
      "metadata": {
        "colab": {
          "base_uri": "https://localhost:8080/",
          "height": 1000
        },
        "id": "-S6qHzRV0O3U",
        "outputId": "ddc269c8-9b5e-4756-c487-bdb28c7117e0"
      },
      "execution_count": null,
      "outputs": [
        {
          "output_type": "stream",
          "name": "stdout",
          "text": [
            "\u001b[1m47/47\u001b[0m \u001b[32m━━━━━━━━━━━━━━━━━━━━\u001b[0m\u001b[37m\u001b[0m \u001b[1m0s\u001b[0m 6ms/step - accuracy: 0.7963 - loss: 0.5855\n",
            "Test Accuracy: 80.66%\n",
            "\u001b[1m47/47\u001b[0m \u001b[32m━━━━━━━━━━━━━━━━━━━━\u001b[0m\u001b[37m\u001b[0m \u001b[1m1s\u001b[0m 20ms/step\n"
          ]
        },
        {
          "output_type": "display_data",
          "data": {
            "text/plain": [
              "<Figure size 1000x800 with 2 Axes>"
            ],
            "image/png": "[encoded data removed]"
          },
          "metadata": {}
        },
        {
          "output_type": "stream",
          "name": "stdout",
          "text": [
            "              precision    recall  f1-score   support\n",
            "\n",
            "         DFA       0.77      0.81      0.79       115\n",
            "         IEO       0.82      0.91      0.86       291\n",
            "         IOM       0.88      0.87      0.87       108\n",
            "         ITH       0.67      0.62      0.65       117\n",
            "         ITS       0.79      0.76      0.77       108\n",
            "         IWL       0.91      0.83      0.87       106\n",
            "         IWW       0.69      0.60      0.64       104\n",
            "         MTI       0.78      0.88      0.83        94\n",
            "         TAI       0.88      0.77      0.82       124\n",
            "         TIE       0.69      0.73      0.71        94\n",
            "         TSI       0.93      0.93      0.93       102\n",
            "         WSI       0.84      0.82      0.83       126\n",
            "\n",
            "    accuracy                           0.81      1489\n",
            "   macro avg       0.80      0.79      0.80      1489\n",
            "weighted avg       0.81      0.81      0.81      1489\n",
            "\n"
          ]
        }
      ]
    }
  ]
}